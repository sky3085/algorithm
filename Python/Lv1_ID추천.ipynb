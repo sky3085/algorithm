{
 "cells": [
  {
   "cell_type": "markdown",
   "metadata": {},
   "source": [
    "#### https://programmers.co.kr/learn/courses/30/lessons/72410\n",
    "- id를 입력받아 형식에 맞게 id를 변환하여 추천해주는 프로그램입니다."
   ]
  },
  {
   "cell_type": "code",
   "execution_count": 1,
   "metadata": {},
   "outputs": [
    {
     "name": "stdout",
     "output_type": "stream",
     "text": [
      "15\n"
     ]
    },
    {
     "data": {
      "text/plain": [
       "'bat.y.abcdefghi'"
      ]
     },
     "execution_count": 1,
     "metadata": {},
     "output_type": "execute_result"
    }
   ],
   "source": [
    "# 본인 풀이방법\n",
    "import re\n",
    "def solution(new_id):\n",
    "    answer = ''\n",
    "    new_id=new_id.lower()\n",
    "    new_id=re.sub('[^a-z0-9\\.\\-_]', '', new_id)\n",
    "    new_id=re.sub('[.]{2,}', '.', new_id)\n",
    "    new_id=re.sub('^[\\.]', '', new_id)\n",
    "    new_id=re.sub('[\\.]$', '', new_id)\n",
    "\n",
    "    if ''==new_id:\n",
    "        new_id='a'\n",
    "    if len(new_id)>=16:\n",
    "        new_id=new_id[0:15]\n",
    "        new_id=re.sub('[\\.]$', '', new_id)\n",
    "    if len(new_id)<=2:\n",
    "        while(len(new_id)<3):\n",
    "            new_id+=new_id[-1]\n",
    "    answer=new_id\n",
    "    return answer\n",
    "\n",
    "\n",
    "new_id='...!@BaT#*..y.abcdefghijklm'\n",
    "print(len(new_id[0:15]))\n",
    "solution(new_id)"
   ]
  },
  {
   "cell_type": "code",
   "execution_count": null,
   "metadata": {},
   "outputs": [],
   "source": [
    "# 다른 사람 풀이\n",
    "import re\n",
    "\n",
    "def solution(new_id):\n",
    "    st = new_id\n",
    "    st = st.lower()\n",
    "    st = re.sub('[^a-z0-9\\-_.]', '', st)\n",
    "    st = re.sub('\\.+', '.', st)\n",
    "    st = re.sub('^[.]|[.]$', '', st)\n",
    "    st = 'a' if len(st) == 0 else st[:15]\n",
    "    st = re.sub('^[.]|[.]$', '', st)\n",
    "    st = st if len(st) > 2 else st + \"\".join([st[-1] for i in range(3-len(st))])\n",
    "    return st"
   ]
  }
 ],
 "metadata": {
  "interpreter": {
   "hash": "27cc1592400a49e29347d731bddc25ead99330001d369613af25ccd9674a593a"
  },
  "kernelspec": {
   "display_name": "Python 3.9.7 ('base')",
   "language": "python",
   "name": "python3"
  },
  "language_info": {
   "codemirror_mode": {
    "name": "ipython",
    "version": 3
   },
   "file_extension": ".py",
   "mimetype": "text/x-python",
   "name": "python",
   "nbconvert_exporter": "python",
   "pygments_lexer": "ipython3",
   "version": "3.9.7"
  },
  "orig_nbformat": 4
 },
 "nbformat": 4,
 "nbformat_minor": 2
}
