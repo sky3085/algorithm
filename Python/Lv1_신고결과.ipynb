{
 "cells": [
  {
   "cell_type": "markdown",
   "metadata": {},
   "source": [
    "https://programmers.co.kr/learn/courses/30/lessons/92334?language=python3"
   ]
  },
  {
   "cell_type": "code",
   "execution_count": 4,
   "metadata": {},
   "outputs": [
    {
     "data": {
      "text/plain": [
       "[2, 1, 1, 0]"
      ]
     },
     "execution_count": 4,
     "metadata": {},
     "output_type": "execute_result"
    }
   ],
   "source": [
    "\n",
    "def solution(id_list, report, k):\n",
    "    set_report=list(set(report))# 리포트 중복제거\n",
    "    id_stop=[]#신고를 당해 정지된 ID\n",
    "    id_count_list={id:0 for id in id_list}#id당 신고 당한 횟수\n",
    "    answer = [0 for i in range(len(id_list))]\n",
    "    for i in set_report:\n",
    "        id_count_list[i.split()[1]] += 1\n",
    "        if(id_count_list[i.split()[1]] >= k):\n",
    "            id_stop.append(i.split()[1])\n",
    "\n",
    "    for i in set_report:\n",
    "        if i.split()[1] in id_stop:\n",
    "            answer[id_list.index(i.split()[0])] += 1\n",
    "\n",
    "    return answer\n",
    "\n",
    "id_list=[\"muzi\", \"frodo\", \"apeach\", \"neo\"]\n",
    "report=[\"muzi frodo\",\"apeach frodo\",\"frodo neo\",\"muzi neo\",\"apeach muzi\"]\n",
    "k=2\n",
    "solution(id_list,report,k)"
   ]
  },
  {
   "cell_type": "code",
   "execution_count": 5,
   "metadata": {},
   "outputs": [
    {
     "data": {
      "text/plain": [
       "[2, 1, 1, 0]"
      ]
     },
     "execution_count": 5,
     "metadata": {},
     "output_type": "execute_result"
    }
   ],
   "source": [
    "from collections import defaultdict#값을 지정하지 않으면 디폴트값 입력\n",
    " \n",
    "def solution(id_list, report, k):\n",
    "    answer = []\n",
    " \n",
    "    report_to_from = defaultdict(set) # key(id)를 신고한 목록\n",
    "    report_from_to = defaultdict(set) # key(id)가 신고한 목록\n",
    "    for r in report:\n",
    "        report_from, report_to = r.split(' ') # 공백을 기준으로 from/to 구분\n",
    "        report_to_from[report_to].add(report_from) # report_to를 신고한 목록에 from 추가\n",
    "        report_from_to[report_from].add(report_to) # report_from이 신고한 목록에 to 추가\n",
    "\n",
    "    for _id in id_list:\n",
    "        cnt = 0\n",
    "        for r_to in report_from_to[_id]: # _id가 신고한 목록에서 아이디를 가져옴(r_to)\n",
    "            if len(report_to_from[r_to]) >= k:  # r_to 신고한 목록의 개수가 k 이상인 경우 cnt++\n",
    "               cnt += 1\n",
    "        answer.append(cnt)\n",
    "    return answer\n",
    "id_list=[\"muzi\", \"frodo\", \"apeach\", \"neo\"]\n",
    "report=[\"muzi frodo\",\"apeach frodo\",\"frodo neo\",\"muzi neo\",\"apeach muzi\"]\n",
    "k=2\n",
    "solution(id_list,report,k)"
   ]
  },
  {
   "cell_type": "code",
   "execution_count": null,
   "metadata": {},
   "outputs": [],
   "source": []
  }
 ],
 "metadata": {
  "interpreter": {
   "hash": "27cc1592400a49e29347d731bddc25ead99330001d369613af25ccd9674a593a"
  },
  "kernelspec": {
   "display_name": "Python 3.9.7 ('base')",
   "language": "python",
   "name": "python3"
  },
  "language_info": {
   "codemirror_mode": {
    "name": "ipython",
    "version": 3
   },
   "file_extension": ".py",
   "mimetype": "text/x-python",
   "name": "python",
   "nbconvert_exporter": "python",
   "pygments_lexer": "ipython3",
   "version": "3.9.7"
  },
  "orig_nbformat": 4
 },
 "nbformat": 4,
 "nbformat_minor": 2
}
