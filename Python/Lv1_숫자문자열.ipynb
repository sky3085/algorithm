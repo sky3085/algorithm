{
 "cells": [
  {
   "cell_type": "markdown",
   "metadata": {},
   "source": [
    "<pre>문제\n",
    "네오와 프로도가 숫자놀이를 하고 있습니다.\n",
    "네오가 프로도에게 숫자를 건넬 때 일부 자릿수를 영단어로 바꾼 카드를 건네주면 프로도는 원래 숫자를 찾는 게임입니다.</pre>\n",
    "https://programmers.co.kr/learn/courses/30/lessons/81301"
   ]
  },
  {
   "cell_type": "code",
   "execution_count": 4,
   "metadata": {},
   "outputs": [
    {
     "name": "stdout",
     "output_type": "stream",
     "text": [
      "1478\n",
      "234567\n",
      "10203\n"
     ]
    }
   ],
   "source": [
    "#직접 푼 풀이법\n",
    "def solution(s):\n",
    "    answer = 0\n",
    "    \n",
    "    s=s.replace('zero', '0')\n",
    "    s=s.replace('one', '1')\n",
    "    s=s.replace('two', '2')\n",
    "    s=s.replace('three', '3')\n",
    "    s=s.replace('four', '4')\n",
    "    s=s.replace('five', '5')\n",
    "    s=s.replace('six', '6')\n",
    "    s=s.replace('seven', '7')\n",
    "    s=s.replace('eight', '8')\n",
    "    s=s.replace('nine', '9')\n",
    "\n",
    "    answer = int(s)\n",
    "\n",
    "    return answer\n",
    "\n",
    "s=\"one4seveneight\"\n",
    "s1=\"23four5six7\"\n",
    "s2=\"1zerotwozero3\"\n",
    "print(solution(s))\n",
    "print(solution(s1))\n",
    "print(solution(s2))"
   ]
  },
  {
   "cell_type": "code",
   "execution_count": null,
   "metadata": {},
   "outputs": [],
   "source": []
  }
 ],
 "metadata": {
  "interpreter": {
   "hash": "27cc1592400a49e29347d731bddc25ead99330001d369613af25ccd9674a593a"
  },
  "kernelspec": {
   "display_name": "Python 3.9.7 ('base')",
   "language": "python",
   "name": "python3"
  },
  "language_info": {
   "codemirror_mode": {
    "name": "ipython",
    "version": 3
   },
   "file_extension": ".py",
   "mimetype": "text/x-python",
   "name": "python",
   "nbconvert_exporter": "python",
   "pygments_lexer": "ipython3",
   "version": "3.9.7"
  },
  "orig_nbformat": 4
 },
 "nbformat": 4,
 "nbformat_minor": 2
}
