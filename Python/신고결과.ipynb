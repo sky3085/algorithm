{
 "cells": [
  {
   "cell_type": "code",
   "execution_count": 39,
   "metadata": {},
   "outputs": [
    {
     "name": "stdout",
     "output_type": "stream",
     "text": [
      "{'muzi': 1, 'frodo': 2, 'apeach': 0, 'neo': 2}\n"
     ]
    },
    {
     "data": {
      "text/plain": [
       "[]"
      ]
     },
     "execution_count": 39,
     "metadata": {},
     "output_type": "execute_result"
    }
   ],
   "source": [
    "# https://programmers.co.kr/learn/courses/30/lessons/92334?language=python3\n",
    "\n",
    "def solution(id_list, report, k):\n",
    "    set_report=list(set(report))# 중복제거\n",
    "    \n",
    "    id_count_list={id:0 for id in id_list}#id당 신고 당한 횟수\n",
    "   \n",
    "    \n",
    "    for i in set_report:\n",
    "        id_count_list[i.split(\" \")[1]] += 1\n",
    "        if(id_count_list[i.split(\" \")[1]]>=k):\n",
    "            pass#정지된 id\n",
    "        \n",
    "        \n",
    "    print(id_count_list)\n",
    "    answer = []\n",
    "    return answer\n",
    "\n",
    "id_list=[\"muzi\", \"frodo\", \"apeach\", \"neo\"]\n",
    "report=[\"muzi frodo\",\"apeach frodo\",\"frodo neo\",\"muzi neo\",\"apeach muzi\"]\n",
    "k=2\n",
    "solution(id_list,report,k)"
   ]
  },
  {
   "cell_type": "code",
   "execution_count": 29,
   "metadata": {},
   "outputs": [
    {
     "name": "stdout",
     "output_type": "stream",
     "text": [
      "['apeach muzi', 'apeach frodo', 'frodo neo', 'muzi neo', 'muzi frodo']\n",
      "['apeach', 'frodo', 'muzi', 'neo']\n"
     ]
    }
   ],
   "source": []
  },
  {
   "cell_type": "code",
   "execution_count": null,
   "metadata": {},
   "outputs": [],
   "source": []
  }
 ],
 "metadata": {
  "interpreter": {
   "hash": "27cc1592400a49e29347d731bddc25ead99330001d369613af25ccd9674a593a"
  },
  "kernelspec": {
   "display_name": "Python 3.9.7 ('base')",
   "language": "python",
   "name": "python3"
  },
  "language_info": {
   "codemirror_mode": {
    "name": "ipython",
    "version": 3
   },
   "file_extension": ".py",
   "mimetype": "text/x-python",
   "name": "python",
   "nbconvert_exporter": "python",
   "pygments_lexer": "ipython3",
   "version": "3.9.7"
  },
  "orig_nbformat": 4
 },
 "nbformat": 4,
 "nbformat_minor": 2
}
