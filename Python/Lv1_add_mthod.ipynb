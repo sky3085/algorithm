{
 "cells": [
  {
   "cell_type": "markdown",
   "metadata": {},
   "source": [
    "##### 두개의 정수를 입력받아 그 사이의 모든 정수의 합을 구하시오.\n",
    "https://programmers.co.kr/learn/courses/30/lessons/12912?language=python3"
   ]
  },
  {
   "cell_type": "code",
   "execution_count": 1,
   "metadata": {},
   "outputs": [
    {
     "data": {
      "text/plain": [
       "25"
      ]
     },
     "execution_count": 1,
     "metadata": {},
     "output_type": "execute_result"
    }
   ],
   "source": [
    "#첫번째 풀이-파이썬 언어의 사고방식이 부족했다\n",
    "def solution(a, b):\n",
    "    answer = 0\n",
    "    if a>b :\n",
    "        for i in range(b,a+1):\n",
    "            answer+=i\n",
    "    else :\n",
    "        for i in range(a,b+1):\n",
    "            answer+=i\n",
    "    return answer\n",
    "solution(7,3)"
   ]
  },
  {
   "cell_type": "code",
   "execution_count": 5,
   "metadata": {},
   "outputs": [
    {
     "data": {
      "text/plain": [
       "25"
      ]
     },
     "execution_count": 5,
     "metadata": {},
     "output_type": "execute_result"
    }
   ],
   "source": [
    "# 모든 풀이에서 좋았던 코드 1\n",
    "def solution(a, b):\n",
    "    if a>b:\n",
    "        a, b = b, a\n",
    "    return sum(range(a,b+1))\n",
    "\n",
    "solution(7,3)"
   ]
  },
  {
   "cell_type": "code",
   "execution_count": 7,
   "metadata": {},
   "outputs": [
    {
     "data": {
      "text/plain": [
       "25"
      ]
     },
     "execution_count": 7,
     "metadata": {},
     "output_type": "execute_result"
    }
   ],
   "source": [
    "# 모든 풀이에서 좋았던 코드 2\n",
    "def solution(a, b):\n",
    "    return sum(range(min(a,b), max(a,b)+1))\n",
    "\n",
    "solution(7,3)"
   ]
  },
  {
   "cell_type": "code",
   "execution_count": null,
   "metadata": {},
   "outputs": [],
   "source": []
  }
 ],
 "metadata": {
  "interpreter": {
   "hash": "27cc1592400a49e29347d731bddc25ead99330001d369613af25ccd9674a593a"
  },
  "kernelspec": {
   "display_name": "Python 3.9.7 ('base')",
   "language": "python",
   "name": "python3"
  },
  "language_info": {
   "codemirror_mode": {
    "name": "ipython",
    "version": 3
   },
   "file_extension": ".py",
   "mimetype": "text/x-python",
   "name": "python",
   "nbconvert_exporter": "python",
   "pygments_lexer": "ipython3",
   "version": "3.9.7"
  },
  "orig_nbformat": 4
 },
 "nbformat": 4,
 "nbformat_minor": 2
}
